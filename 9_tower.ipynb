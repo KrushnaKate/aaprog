{
 "cells": [
  {
   "cell_type": "code",
   "execution_count": 6,
   "id": "ff5ad502-a7e3-4dda-ba53-836dbc3df278",
   "metadata": {},
   "outputs": [
    {
     "name": "stdout",
     "output_type": "stream",
     "text": [
      "Move disk 1 from A to C\n",
      "Move disk 2 from A to B\n",
      "Move disk 1 from C to B\n",
      "Move disk 3 from A to C\n",
      "Move disk 1 from B to A\n",
      "Move disk 2 from B to C\n",
      "Move disk 1 from A to C\n"
     ]
    }
   ],
   "source": [
    "def tower_of_hanoi(n, source, target, auxiliary):\n",
    "    \"\"\"\n",
    "    Solves the Tower of Hanoi puzzle.\n",
    "\n",
    "    Parameters:\n",
    "    n        : number of disks\n",
    "    source   : the starting rod (e.g., 'A')\n",
    "    target   : the destination rod (e.g., 'C')\n",
    "    auxiliary: the helper rod (e.g., 'B')\n",
    "    \"\"\"\n",
    "    if n == 1:\n",
    "        print(f\"Move disk 1 from {source} to {target}\")\n",
    "        return\n",
    "    # Move n-1 disks from source to auxiliary\n",
    "    tower_of_hanoi(n - 1, source, auxiliary, target)\n",
    "    # Move the nth disk from source to target\n",
    "    print(f\"Move disk {n} from {source} to {target}\")\n",
    "    # Move the n-1 disks from auxiliary to target\n",
    "    tower_of_hanoi(n - 1, auxiliary, target, source)\n",
    "\n",
    "# Example usage:\n",
    "disks = 3\n",
    "tower_of_hanoi(disks, 'A', 'C', 'B')\n"
   ]
  },
  {
   "cell_type": "code",
   "execution_count": null,
   "id": "586f4191-f2fa-48d8-9538-e03e71bcd239",
   "metadata": {},
   "outputs": [],
   "source": []
  }
 ],
 "metadata": {
  "kernelspec": {
   "display_name": "Python 3 (ipykernel)",
   "language": "python",
   "name": "python3"
  },
  "language_info": {
   "codemirror_mode": {
    "name": "ipython",
    "version": 3
   },
   "file_extension": ".py",
   "mimetype": "text/x-python",
   "name": "python",
   "nbconvert_exporter": "python",
   "pygments_lexer": "ipython3",
   "version": "3.12.7"
  }
 },
 "nbformat": 4,
 "nbformat_minor": 5
}

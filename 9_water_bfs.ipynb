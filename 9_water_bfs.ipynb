{
 "cells": [
  {
   "cell_type": "code",
   "execution_count": 3,
   "id": "b34f1d9e-4d35-4b68-9866-23b4a6f6ea9e",
   "metadata": {},
   "outputs": [
    {
     "name": "stdout",
     "output_type": "stream",
     "text": [
      "Solution found to measure 2 liters.\n"
     ]
    }
   ],
   "source": [
    "from collections import deque\n",
    "\n",
    "# Define the BFS algorithm\n",
    "def bfs(x, y, z):\n",
    "    # Check if the goal is achievable\n",
    "    if z > max(x, y):\n",
    "        return -1\n",
    "    \n",
    "    # Visited set to keep track of visited states (x, y)\n",
    "    visited = set()\n",
    "    \n",
    "    # Queue to store states in the format (amount in jug x, amount in jug y)\n",
    "    queue = deque([(0, 0)])  # Start with both jugs empty\n",
    "    visited.add((0, 0))\n",
    "    \n",
    "    # Define all possible moves: (fill, empty, pour from x to y, pour from y to x)\n",
    "    while queue:\n",
    "        cur_x, cur_y = queue.popleft()\n",
    "        \n",
    "        # If either jug contains the target amount, return the solution\n",
    "        if cur_x == z or cur_y == z:\n",
    "            return True\n",
    "        \n",
    "        # Possible next states\n",
    "        next_states = [\n",
    "            (x, cur_y),  # Fill jug x\n",
    "            (cur_x, y),  # Fill jug y\n",
    "            (0, cur_y),  # Empty jug x\n",
    "            (cur_x, 0),  # Empty jug y\n",
    "            (cur_x - min(cur_x, y - cur_y), cur_y + min(cur_x, y - cur_y)),  # Pour from x to y\n",
    "            (cur_x + min(cur_y, x - cur_x), cur_y - min(cur_y, x - cur_x))   # Pour from y to x\n",
    "        ]\n",
    "        \n",
    "        # Explore each next state\n",
    "        for state in next_states:\n",
    "            if state not in visited:\n",
    "                visited.add(state)\n",
    "                queue.append(state)\n",
    "    \n",
    "    # If no solution found\n",
    "    return False\n",
    "\n",
    "# Example usage\n",
    "x, y, z = 4, 3, 2  # Jug capacities and target amount\n",
    "if bfs(x, y, z):\n",
    "    print(f\"Solution found to measure {z} liters.\")\n",
    "else:\n",
    "    print(f\"No solution possible to measure {z} liters.\")"
   ]
  },
  {
   "cell_type": "code",
   "execution_count": null,
   "id": "977cdea2-20a6-43b2-b018-a5e52f245167",
   "metadata": {},
   "outputs": [],
   "source": []
  },
  {
   "cell_type": "code",
   "execution_count": null,
   "id": "698cc9cb-8836-4933-9420-59890a712f44",
   "metadata": {},
   "outputs": [],
   "source": []
  }
 ],
 "metadata": {
  "kernelspec": {
   "display_name": "Python 3 (ipykernel)",
   "language": "python",
   "name": "python3"
  },
  "language_info": {
   "codemirror_mode": {
    "name": "ipython",
    "version": 3
   },
   "file_extension": ".py",
   "mimetype": "text/x-python",
   "name": "python",
   "nbconvert_exporter": "python",
   "pygments_lexer": "ipython3",
   "version": "3.12.7"
  }
 },
 "nbformat": 4,
 "nbformat_minor": 5
}

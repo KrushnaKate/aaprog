{
 "cells": [
  {
   "cell_type": "code",
   "execution_count": 10,
   "id": "f0f28f5b-8f0c-4964-bb90-7950fd81be11",
   "metadata": {},
   "outputs": [
    {
     "name": "stdout",
     "output_type": "stream",
     "text": [
      "Visited Path (by index): [3, 0, 1, 2, 4, 3]\n",
      "Total Distance: 16.34\n"
     ]
    }
   ],
   "source": [
    "import numpy as np\n",
    "\n",
    "def calculate_distance(city1, city2):\n",
    "    return np.linalg.norm(np.array(city1) - np.array(city2))\n",
    "    #linalg.norm() is ecledian distance formula underroot/(x1-x2)^2 + (y1-y2)^2 \n",
    "\n",
    "def nearest_neighbor_tsp(cities):\n",
    "    n = len(cities)\n",
    "    visited = [False] * n #array of total no of cities with false value \n",
    "    path = []\n",
    "    total_distance = 0\n",
    "\n",
    "    current_index = 3  # Start at the first city\n",
    "    path.append(current_index)\n",
    "    visited[current_index] = True\n",
    "\n",
    "    for _ in range(n - 1):\n",
    "        nearest = None\n",
    "        min_distance = float('inf') #infinity\n",
    "        for i in range(n):\n",
    "            if not visited[i]:\n",
    "                dist = calculate_distance(cities[current_index], cities[i])\n",
    "                if dist < min_distance:\n",
    "                    min_distance = dist\n",
    "                    nearest = i\n",
    "        visited[nearest] = True\n",
    "        path.append(nearest)\n",
    "        total_distance += min_distance\n",
    "        current_index = nearest\n",
    "\n",
    "    # Return to starting city\n",
    "    total_distance += calculate_distance(cities[current_index], cities[path[0]])\n",
    "    path.append(path[0])  # Complete the tour\n",
    "\n",
    "    return path, total_distance\n",
    "\n",
    "\n",
    "if __name__ == \"__main__\":\n",
    "    cities = [(0, 0), (2, 3), (5, 4), (1, 1), (6, 1)]\n",
    "    path, distance = nearest_neighbor_tsp(cities)\n",
    "    print(\"Visited Path (by index):\", path)\n",
    "    print(\"Total Distance:\", round(distance, 2))\n"
   ]
  },
  {
   "cell_type": "code",
   "execution_count": null,
   "id": "fabb06cc-c756-4169-bc18-4c2d5b59f52f",
   "metadata": {},
   "outputs": [],
   "source": []
  }
 ],
 "metadata": {
  "kernelspec": {
   "display_name": "Python 3 (ipykernel)",
   "language": "python",
   "name": "python3"
  },
  "language_info": {
   "codemirror_mode": {
    "name": "ipython",
    "version": 3
   },
   "file_extension": ".py",
   "mimetype": "text/x-python",
   "name": "python",
   "nbconvert_exporter": "python",
   "pygments_lexer": "ipython3",
   "version": "3.12.7"
  }
 },
 "nbformat": 4,
 "nbformat_minor": 5
}

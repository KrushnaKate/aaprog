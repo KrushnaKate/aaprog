{
 "cells": [
  {
   "cell_type": "code",
   "execution_count": 1,
   "id": "b34f1d9e-4d35-4b68-9866-23b4a6f6ea9e",
   "metadata": {},
   "outputs": [
    {
     "name": "stdout",
     "output_type": "stream",
     "text": [
      "Initial Board: [3, 0, 0, 5, 2, 2, 2, 0]\n",
      "\n",
      "Final Board after Hill Climbing:\n",
      ". . . Q . . . .\n",
      ". Q . . . . . .\n",
      ". . . . . . . Q\n",
      ". . . . . Q . .\n",
      ". . Q . . . . .\n",
      ". . . . . . Q .\n",
      ". . . . Q . . .\n",
      "Q . . . . . . .\n",
      "\n",
      "Conflicts in the final solution: 1\n"
     ]
    }
   ],
   "source": [
    "import random\n",
    "\n",
    "class NQueens:\n",
    "    def __init__(self, n):\n",
    "        self.n = n\n",
    "        self.board = [random.randint(0, n-1) for _ in range(n)]  # Random initial solution (one queen per column)\n",
    "\n",
    "    # Function to evaluate the number of conflicts\n",
    "    def evaluate(self, board):\n",
    "        conflicts = 0\n",
    "        for i in range(self.n):\n",
    "            for j in range(i + 1, self.n):\n",
    "                # Check if queens i and j are attacking each other\n",
    "                if board[i] == board[j] or abs(board[i] - board[j]) == abs(i - j):\n",
    "                    conflicts += 1\n",
    "        return conflicts\n",
    "\n",
    "    # Generate neighboring solutions by moving one queen to a different row in the same column\n",
    "    def get_neighbors(self, board):\n",
    "        neighbors = []\n",
    "        for col in range(self.n):\n",
    "            for row in range(self.n):\n",
    "                if row != board[col]:\n",
    "                    neighbor = board[:]\n",
    "                    neighbor[col] = row\n",
    "                    neighbors.append(neighbor)\n",
    "        return neighbors\n",
    "\n",
    "    # Hill climbing algorithm to solve N-Queens\n",
    "    def hill_climbing(self):\n",
    "        current = self.board\n",
    "        while True:\n",
    "            neighbors = self.get_neighbors(current)\n",
    "            if not neighbors:\n",
    "                break\n",
    "            \n",
    "            # Find the neighbor with the least conflicts (greedy choice)\n",
    "            next_state = min(neighbors, key=lambda state: self.evaluate(state))\n",
    "            current_conflicts = self.evaluate(current)\n",
    "            next_conflicts = self.evaluate(next_state)\n",
    "            \n",
    "            # If no improvement, we've reached a local optimum\n",
    "            if next_conflicts >= current_conflicts:\n",
    "                break\n",
    "            \n",
    "            current = next_state  # Move to the better neighbor\n",
    "\n",
    "        return current\n",
    "\n",
    "\n",
    "\n",
    "if __name__ == \"__main__\":\n",
    "    n = 8  # For an 8x8 board (8-Queens problem)\n",
    "    nqueens = NQueens(n)\n",
    "    \n",
    "    print(f\"Initial Board: {nqueens.board}\")\n",
    "    solution = nqueens.hill_climbing()\n",
    "    \n",
    "    print(\"\\nFinal Board after Hill Climbing:\")\n",
    "    for row in range(n):\n",
    "        row_rep = ['Q' if col == solution[row] else '.' for col in range(n)]\n",
    "        print(' '.join(row_rep))\n",
    "\n",
    "    print(\"\\nConflicts in the final solution:\", nqueens.evaluate(solution))\n"
   ]
  },
  {
   "cell_type": "code",
   "execution_count": null,
   "id": "977cdea2-20a6-43b2-b018-a5e52f245167",
   "metadata": {},
   "outputs": [],
   "source": []
  }
 ],
 "metadata": {
  "kernelspec": {
   "display_name": "Python 3 (ipykernel)",
   "language": "python",
   "name": "python3"
  },
  "language_info": {
   "codemirror_mode": {
    "name": "ipython",
    "version": 3
   },
   "file_extension": ".py",
   "mimetype": "text/x-python",
   "name": "python",
   "nbconvert_exporter": "python",
   "pygments_lexer": "ipython3",
   "version": "3.12.7"
  }
 },
 "nbformat": 4,
 "nbformat_minor": 5
}

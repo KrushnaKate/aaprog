{
 "cells": [
  {
   "cell_type": "code",
   "execution_count": 6,
   "id": "3e7bcc0a-fd2b-4d96-8763-05ab70456ea6",
   "metadata": {},
   "outputs": [
    {
     "name": "stdout",
     "output_type": "stream",
     "text": [
      "Tokenized Words:\n",
      " ['Information', 'retrieval', 'is', 'the', 'process', 'of', 'obtaining', 'relevant', 'information', 'from', 'a', 'collection', 'of', 'resources', '.', 'It', 'is', 'a', 'key', 'part', 'of', 'search', 'engines', ',', 'databases', ',', 'and', 'data', 'mining', 'systems', '.']\n",
      "\n",
      "Filtered Tokens (Stop words removed):\n",
      " ['information', 'retrieval', 'process', 'obtaining', 'relevant', 'information', 'collection', 'resources', 'key', 'part', 'search', 'engines', 'databases', 'data', 'mining', 'systems']\n",
      "\n",
      "Word Frequencies:\n",
      " Counter({'information': 2, 'retrieval': 1, 'process': 1, 'obtaining': 1, 'relevant': 1, 'collection': 1, 'resources': 1, 'key': 1, 'part': 1, 'search': 1, 'engines': 1, 'databases': 1, 'data': 1, 'mining': 1, 'systems': 1})\n",
      "\n",
      "POS Tagging:\n",
      " [('information', 'NN'), ('retrieval', 'NN'), ('process', 'NN'), ('obtaining', 'VBG'), ('relevant', 'JJ'), ('information', 'NN'), ('collection', 'NN'), ('resources', 'NNS'), ('key', 'JJ'), ('part', 'NN'), ('search', 'NN'), ('engines', 'VBZ'), ('databases', 'NNS'), ('data', 'NNS'), ('mining', 'NN'), ('systems', 'NNS')]\n"
     ]
    },
    {
     "name": "stderr",
     "output_type": "stream",
     "text": [
      "[nltk_data] Downloading package punkt to\n",
      "[nltk_data]     C:\\Users\\hyper\\AppData\\Roaming\\nltk_data...\n",
      "[nltk_data]   Package punkt is already up-to-date!\n",
      "[nltk_data] Downloading package stopwords to\n",
      "[nltk_data]     C:\\Users\\hyper\\AppData\\Roaming\\nltk_data...\n",
      "[nltk_data]   Package stopwords is already up-to-date!\n",
      "[nltk_data] Downloading package averaged_perceptron_tagger_eng to\n",
      "[nltk_data]     C:\\Users\\hyper\\AppData\\Roaming\\nltk_data...\n",
      "[nltk_data]   Package averaged_perceptron_tagger_eng is already up-to-\n",
      "[nltk_data]       date!\n"
     ]
    }
   ],
   "source": [
    "import nltk\n",
    "from nltk.tokenize import word_tokenize\n",
    "from nltk.corpus import stopwords\n",
    "from nltk import pos_tag\n",
    "from collections import Counter\n",
    "import string\n",
    "\n",
    "# Download required NLTK resources (run once)\n",
    "nltk.download('punkt')\n",
    "nltk.download('stopwords')\n",
    "nltk.download('averaged_perceptron_tagger_eng')\n",
    "\n",
    "# Input text\n",
    "text = \"\"\"\n",
    "Information retrieval is the process of obtaining relevant information from a collection of resources. \n",
    "It is a key part of search engines, databases, and data mining systems.\n",
    "\"\"\"\n",
    "\n",
    "# Step 1: Tokenization\n",
    "tokens = word_tokenize(text)\n",
    "print(\"Tokenized Words:\\n\", tokens)\n",
    "\n",
    "# Step 2: Convert to lowercase and remove punctuation\n",
    "tokens = [word.lower() for word in tokens if word.isalnum()]\n",
    "\n",
    "# Step 3: Remove Stop Words\n",
    "stop_words = set(stopwords.words('english'))\n",
    "filtered_tokens = [word for word in tokens if word not in stop_words]\n",
    "print(\"\\nFiltered Tokens (Stop words removed):\\n\", filtered_tokens)\n",
    "\n",
    "# Step 4: Count Word Frequencies\n",
    "word_freq = Counter(filtered_tokens)\n",
    "print(\"\\nWord Frequencies:\\n\", word_freq)\n",
    "\n",
    "# Step 5: POS Tagging\n",
    "pos_tags = nltk.pos_tag(filtered_tokens)\n",
    "print(\"\\nPOS Tagging:\\n\", pos_tags)\n"
   ]
  },
  {
   "cell_type": "code",
   "execution_count": null,
   "id": "803961f2-bdb7-422d-a659-50f816762d17",
   "metadata": {},
   "outputs": [],
   "source": []
  }
 ],
 "metadata": {
  "kernelspec": {
   "display_name": "Python 3 (ipykernel)",
   "language": "python",
   "name": "python3"
  },
  "language_info": {
   "codemirror_mode": {
    "name": "ipython",
    "version": 3
   },
   "file_extension": ".py",
   "mimetype": "text/x-python",
   "name": "python",
   "nbconvert_exporter": "python",
   "pygments_lexer": "ipython3",
   "version": "3.12.7"
  }
 },
 "nbformat": 4,
 "nbformat_minor": 5
}

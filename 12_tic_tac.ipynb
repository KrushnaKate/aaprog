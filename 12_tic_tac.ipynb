{
 "cells": [
  {
   "cell_type": "code",
   "execution_count": 1,
   "id": "3e7bcc0a-fd2b-4d96-8763-05ab70456ea6",
   "metadata": {},
   "outputs": [
    {
     "name": "stdout",
     "output_type": "stream",
     "text": [
      "Welcome to Tic-Tac-Toe! You are 'X'. Computer is 'O'.\n",
      "\n",
      "\n",
      "  |   |  \n",
      "-----\n",
      "  |   |  \n",
      "-----\n",
      "  |   |  \n",
      "-----\n",
      "\n",
      "\n"
     ]
    },
    {
     "name": "stdin",
     "output_type": "stream",
     "text": [
      "Your move (row and column: 1 1):  1 1\n"
     ]
    },
    {
     "name": "stdout",
     "output_type": "stream",
     "text": [
      "\n",
      "\n",
      "X |   |  \n",
      "-----\n",
      "  |   |  \n",
      "-----\n",
      "  |   |  \n",
      "-----\n",
      "\n",
      "\n",
      "Computer's turn...\n",
      "\n",
      "\n",
      "X |   | O\n",
      "-----\n",
      "  |   |  \n",
      "-----\n",
      "  |   |  \n",
      "-----\n",
      "\n",
      "\n"
     ]
    },
    {
     "name": "stdin",
     "output_type": "stream",
     "text": [
      "Your move (row and column: 1 1):  2 2\n"
     ]
    },
    {
     "name": "stdout",
     "output_type": "stream",
     "text": [
      "\n",
      "\n",
      "X |   | O\n",
      "-----\n",
      "  | X |  \n",
      "-----\n",
      "  |   |  \n",
      "-----\n",
      "\n",
      "\n",
      "Computer's turn...\n",
      "\n",
      "\n",
      "X |   | O\n",
      "-----\n",
      "  | X |  \n",
      "-----\n",
      "  | O |  \n",
      "-----\n",
      "\n",
      "\n"
     ]
    },
    {
     "name": "stdin",
     "output_type": "stream",
     "text": [
      "Your move (row and column: 1 1):  3 3\n"
     ]
    },
    {
     "name": "stdout",
     "output_type": "stream",
     "text": [
      "\n",
      "\n",
      "X |   | O\n",
      "-----\n",
      "  | X |  \n",
      "-----\n",
      "  | O | X\n",
      "-----\n",
      "\n",
      "\n",
      "Congratulations! You win!\n"
     ]
    }
   ],
   "source": [
    "import random\n",
    "\n",
    "def print_board(board):\n",
    "    print(\"\\n\")\n",
    "    for row in board:\n",
    "        print(\" | \".join(row))\n",
    "        print(\"-\" * 5)\n",
    "    print(\"\\n\")\n",
    "\n",
    "def check_winner(board, player):\n",
    "    for i in range(3):\n",
    "        if all(cell == player for cell in board[i]):  # Row\n",
    "            return True\n",
    "        if all(row[i] == player for row in board):  # Column\n",
    "            return True\n",
    "    if all(board[i][i] == player for i in range(3)):  # Diagonal\n",
    "        return True\n",
    "    if all(board[i][2 - i] == player for i in range(3)):  # Anti-diagonal\n",
    "        return True\n",
    "    return False\n",
    "\n",
    "def is_full(board):\n",
    "    return all(cell in ['X', 'O'] for row in board for cell in row)\n",
    "\n",
    "def get_player_move(board):\n",
    "    while True:\n",
    "        try:\n",
    "            move = input(\"Your move (row and column: 1 1): \")\n",
    "            row, col = map(int, move.split())\n",
    "            if row in [1, 2, 3] and col in [1, 2, 3] and board[row - 1][col - 1] == \" \":\n",
    "                return row - 1, col - 1\n",
    "            else:\n",
    "                print(\"Invalid move. Try again.\")\n",
    "        except:\n",
    "            print(\"Invalid input format. Use row and column numbers separated by space.\")\n",
    "\n",
    "def get_computer_move(board):\n",
    "    empty_cells = [(i, j) for i in range(3) for j in range(3) if board[i][j] == \" \"]\n",
    "    return random.choice(empty_cells)\n",
    "\n",
    "def tic_tac_toe_vs_computer():\n",
    "    board = [[\" \" for _ in range(3)] for _ in range(3)]\n",
    "    print(\"Welcome to Tic-Tac-Toe! You are 'X'. Computer is 'O'.\")\n",
    "    print_board(board)\n",
    "\n",
    "    while True:\n",
    "        # Player move\n",
    "        row, col = get_player_move(board)\n",
    "        board[row][col] = \"X\"\n",
    "        print_board(board)\n",
    "        if check_winner(board, \"X\"):\n",
    "            print(\"Congratulations! You win!\")\n",
    "            break\n",
    "        if is_full(board):\n",
    "            print(\"It's a draw!\")\n",
    "            break\n",
    "\n",
    "        # Computer move\n",
    "        print(\"Computer's turn...\")\n",
    "        row, col = get_computer_move(board)\n",
    "        board[row][col] = \"O\"\n",
    "        print_board(board)\n",
    "        if check_winner(board, \"O\"):\n",
    "            print(\"Computer wins! Better luck next time.\")\n",
    "            break\n",
    "        if is_full(board):\n",
    "            print(\"It's a draw!\")\n",
    "            break\n",
    "\n",
    "# Run the game\n",
    "tic_tac_toe_vs_computer()"
   ]
  },
  {
   "cell_type": "code",
   "execution_count": null,
   "id": "803961f2-bdb7-422d-a659-50f816762d17",
   "metadata": {},
   "outputs": [],
   "source": []
  }
 ],
 "metadata": {
  "kernelspec": {
   "display_name": "Python 3 (ipykernel)",
   "language": "python",
   "name": "python3"
  },
  "language_info": {
   "codemirror_mode": {
    "name": "ipython",
    "version": 3
   },
   "file_extension": ".py",
   "mimetype": "text/x-python",
   "name": "python",
   "nbconvert_exporter": "python",
   "pygments_lexer": "ipython3",
   "version": "3.12.7"
  }
 },
 "nbformat": 4,
 "nbformat_minor": 5
}

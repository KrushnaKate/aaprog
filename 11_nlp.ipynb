{
 "cells": [
  {
   "cell_type": "code",
   "execution_count": 3,
   "id": "754bbf84-3290-4fb5-b398-fd2381561ca0",
   "metadata": {},
   "outputs": [
    {
     "name": "stderr",
     "output_type": "stream",
     "text": [
      "[nltk_data] Downloading package punkt_tab to\n",
      "[nltk_data]     C:\\Users\\hyper\\AppData\\Roaming\\nltk_data...\n",
      "[nltk_data]   Package punkt_tab is already up-to-date!\n",
      "[nltk_data] Downloading package stopwords to\n",
      "[nltk_data]     C:\\Users\\hyper\\AppData\\Roaming\\nltk_data...\n",
      "[nltk_data]   Package stopwords is already up-to-date!\n",
      "[nltk_data] Downloading package averaged_perceptron_tagger_eng to\n",
      "[nltk_data]     C:\\Users\\hyper\\AppData\\Roaming\\nltk_data...\n",
      "[nltk_data]   Package averaged_perceptron_tagger_eng is already up-to-\n",
      "[nltk_data]       date!\n"
     ]
    },
    {
     "name": "stdin",
     "output_type": "stream",
     "text": [
      "Enter your text:  Hello, my name is Krushna. I love exploring new technologies and solving complex problems. Python is my favorite programming language!\n"
     ]
    },
    {
     "name": "stdout",
     "output_type": "stream",
     "text": [
      "\n",
      "Tokens: ['Hello', ',', 'my', 'name', 'is', 'Krushna', '.', 'I', 'love', 'exploring', 'new', 'technologies', 'and', 'solving', 'complex', 'problems', '.', 'Python', 'is', 'my', 'favorite', 'programming', 'language', '!']\n",
      "\n",
      "Filtered Tokens (without stopwords): ['Hello', ',', 'name', 'Krushna', '.', 'love', 'exploring', 'new', 'technologies', 'solving', 'complex', 'problems', '.', 'Python', 'favorite', 'programming', 'language', '!']\n",
      "\n",
      "Word Frequency:\n",
      "Hello: 1\n",
      ",: 1\n",
      "name: 1\n",
      "Krushna: 1\n",
      ".: 2\n",
      "love: 1\n",
      "exploring: 1\n",
      "new: 1\n",
      "technologies: 1\n",
      "solving: 1\n",
      "complex: 1\n",
      "problems: 1\n",
      "Python: 1\n",
      "favorite: 1\n",
      "programming: 1\n",
      "language: 1\n",
      "!: 1\n",
      "\n",
      "POS Tags:\n",
      "Hello -> NNP\n",
      ", -> ,\n",
      "name -> NN\n",
      "Krushna -> NNP\n",
      ". -> .\n",
      "love -> VB\n",
      "exploring -> VBG\n",
      "new -> JJ\n",
      "technologies -> NNS\n",
      "solving -> VBG\n",
      "complex -> JJ\n",
      "problems -> NNS\n",
      ". -> .\n",
      "Python -> NNP\n",
      "favorite -> JJ\n",
      "programming -> NN\n",
      "language -> NN\n",
      "! -> .\n"
     ]
    }
   ],
   "source": [
    "import nltk\n",
    "from nltk.tokenize import word_tokenize\n",
    "from nltk.corpus import stopwords\n",
    "from nltk import pos_tag\n",
    "from collections import Counter\n",
    "\n",
    "# Download required NLTK data (only first time)\n",
    "nltk.download('punkt_tab')\n",
    "nltk.download('stopwords')\n",
    "nltk.download('averaged_perceptron_tagger_eng')\n",
    "\n",
    "# Step 1: Input Text\n",
    "text = input(\"Enter your text: \")\n",
    "\n",
    "# Step 2: Tokenization\n",
    "tokens = word_tokenize(text)\n",
    "print(\"\\nTokens:\", tokens)\n",
    "\n",
    "# Step 3: Removing Stop Words\n",
    "stop_words = set(stopwords.words('english'))\n",
    "filtered_tokens = [word for word in tokens if word.lower() not in stop_words]\n",
    "print(\"\\nFiltered Tokens (without stopwords):\", filtered_tokens)\n",
    "\n",
    "# Step 4: Word Frequency Count\n",
    "word_freq = Counter(filtered_tokens)\n",
    "print(\"\\nWord Frequency:\")\n",
    "for word, freq in word_freq.items():\n",
    "    print(f\"{word}: {freq}\")\n",
    "\n",
    "# Step 5: POS Tagging\n",
    "pos_tags = pos_tag(filtered_tokens)\n",
    "print(\"\\nPOS Tags:\")\n",
    "for word, tag in pos_tags:\n",
    "    print(f\"{word} -> {tag}\")"
   ]
  },
  {
   "cell_type": "code",
   "execution_count": null,
   "id": "421dbe60-1f5d-42e8-b009-f373fc49052f",
   "metadata": {},
   "outputs": [],
   "source": []
  }
 ],
 "metadata": {
  "kernelspec": {
   "display_name": "Python 3 (ipykernel)",
   "language": "python",
   "name": "python3"
  },
  "language_info": {
   "codemirror_mode": {
    "name": "ipython",
    "version": 3
   },
   "file_extension": ".py",
   "mimetype": "text/x-python",
   "name": "python",
   "nbconvert_exporter": "python",
   "pygments_lexer": "ipython3",
   "version": "3.12.7"
  }
 },
 "nbformat": 4,
 "nbformat_minor": 5
}
